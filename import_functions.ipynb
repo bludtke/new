{
 "cells": [
  {
   "cell_type": "code",
   "execution_count": 4,
   "metadata": {},
   "outputs": [],
   "source": [
    "import pandas as pd\n",
    "from pandas import ExcelWriter\n",
    "from pandas import ExcelFile\n",
    "\n",
    "# functions to read in excel files\n",
    "\n",
    "# read flare compiled data into dataframe\n",
    "def read_fl2(datafile):\n",
    "    return pd.read_excel(datafile, index_col = 0, skiprows = 26)\n",
    "\n",
    "def read_fl4(datafile):\n",
    "    return pd.read_excel(datafile, index_col = 0, skiprows = 29)\n",
    "\n",
    "def read_fl7(datafile):\n",
    "    return pd.read_excel(datafile, index_col = 0, skiprows = 26)\n",
    "\n",
    "def read_fl8(datafile):\n",
    "    return pd.read_excel(datafile, index_col = 0, skiprows = 26)\n",
    "\n",
    "def read_fl10(datafile):\n",
    "    return pd.read_excel(datafile, index_col = 0, skiprows = 29)\n"
   ]
  },
  {
   "cell_type": "code",
   "execution_count": 5,
   "metadata": {},
   "outputs": [],
   "source": [
    "# replace time and date columns with one column of pd.datetime values\n",
    "def combine_datetime(flaredata):\n",
    "    flaredata.reset_index(inplace = True)\n",
    "    \n",
    "    date_time_col = pd.to_datetime(flaredata['Date'] + ' ' + flaredata['Time'])\n",
    "    \n",
    "    flaredata.insert(0, 'Timestamp', date_time_col)\n",
    "    \n",
    "    del flaredata['Date']\n",
    "    del flaredata['Time']\n",
    "    \n",
    "    return flaredata"
   ]
  },
  {
   "cell_type": "code",
   "execution_count": null,
   "metadata": {},
   "outputs": [],
   "source": []
  }
 ],
 "metadata": {
  "kernelspec": {
   "display_name": "Python 3",
   "language": "python",
   "name": "python3"
  },
  "language_info": {
   "codemirror_mode": {
    "name": "ipython",
    "version": 3
   },
   "file_extension": ".py",
   "mimetype": "text/x-python",
   "name": "python",
   "nbconvert_exporter": "python",
   "pygments_lexer": "ipython3",
   "version": "3.7.6"
  }
 },
 "nbformat": 4,
 "nbformat_minor": 4
}
