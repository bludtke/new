{
 "cells": [
  {
   "cell_type": "code",
   "execution_count": 74,
   "metadata": {},
   "outputs": [],
   "source": [
    "import pandas as pd\n",
    "from pandas import ExcelWriter\n",
    "from pandas import ExcelFile\n",
    "import glob"
   ]
  },
  {
   "cell_type": "code",
   "execution_count": 75,
   "metadata": {},
   "outputs": [],
   "source": [
    "def read_yoko():\n",
    "    all_data = pd.read_excel('/Users/benludtke/Documents/working/sensordata/firstfile.xls', index_col = 0)\n",
    "\n",
    "    for f in glob.glob('/Users/benludtke/Documents/working/sensordata/flaredata*.xls'):\n",
    "        df = pd.read_excel(f, index_col = 0, skiprows = 27)\n",
    "    \n",
    "        n_columns = len(all_data.columns)\n",
    "    \n",
    "        columns = all_data.columns\n",
    "    \n",
    "        all_data.columns = range(n_columns)\n",
    "        df.columns = range(n_columns)\n",
    "    \n",
    "        all_data = pd.concat([all_data,df], sort = False)\n",
    "    \n",
    "        all_data.columns = columns\n",
    "        \n",
    "    all_data.to_excel('/Users/benludtke/Documents/working/sensordata/compiled.xlsx', sheet_name = 'SH', header = False, \\\n",
    "                index = True)"
   ]
  },
  {
   "cell_type": "code",
   "execution_count": 76,
   "metadata": {},
   "outputs": [],
   "source": [
    "read_yoko()\n"
   ]
  },
  {
   "cell_type": "code",
   "execution_count": null,
   "metadata": {},
   "outputs": [],
   "source": []
  },
  {
   "cell_type": "code",
   "execution_count": 72,
   "metadata": {},
   "outputs": [],
   "source": []
  },
  {
   "cell_type": "code",
   "execution_count": 73,
   "metadata": {},
   "outputs": [],
   "source": []
  },
  {
   "cell_type": "code",
   "execution_count": null,
   "metadata": {},
   "outputs": [],
   "source": []
  }
 ],
 "metadata": {
  "kernelspec": {
   "display_name": "Python 3",
   "language": "python",
   "name": "python3"
  },
  "language_info": {
   "codemirror_mode": {
    "name": "ipython",
    "version": 3
   },
   "file_extension": ".py",
   "mimetype": "text/x-python",
   "name": "python",
   "nbconvert_exporter": "python",
   "pygments_lexer": "ipython3",
   "version": "3.7.6"
  }
 },
 "nbformat": 4,
 "nbformat_minor": 4
}
