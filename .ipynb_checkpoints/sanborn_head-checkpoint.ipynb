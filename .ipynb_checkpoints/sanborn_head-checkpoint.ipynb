{
 "cells": [
  {
   "cell_type": "code",
   "execution_count": 1,
   "metadata": {},
   "outputs": [],
   "source": [
    "# import libraries\n",
    "import pandas as pd\n",
    "from pandas import ExcelWriter\n",
    "from pandas import ExcelFile\n",
    "import datetime\n",
    "\n",
    "\n",
    "# import functions\n",
    "from sh_functions import read_fl278, read_fl4, read_fl10, list_of_dfs, \\\n",
    "    write_sh, combine_datetime, list_of_timestrings, read_yoko278, read_yoko410"
   ]
  },
  {
   "cell_type": "code",
   "execution_count": 3,
   "metadata": {},
   "outputs": [],
   "source": [
    "# compile yoko files [read_yoko(flare,count)]\n",
    "read_yoko410(10,10)\n",
    "\n",
    "# read file (flares 2, 7, 8)\n",
    "df = read_fl10('/Users/benludtke/Documents/working/december/2/compiled.xlsx')\n",
    "\n",
    "# make list of timestamp strings to use for naming\n",
    "timestamp_series = combine_datetime(df)\n",
    "\n",
    "# break list up into 3000 row chunks to use for naming\n",
    "timeserieslist = list_of_timestrings(timestamp_series, 3000)\n",
    "\n",
    "# delete extra index column\n",
    "del df['index']\n",
    "\n",
    "# split flare data up into list of 3000 row dataframes\n",
    "df_list = list_of_dfs(df, 3000)\n",
    "\n",
    "# write into excel files\n",
    "write_sh(df_list, timeserieslist, 10, timestamp_series)\n"
   ]
  },
  {
   "cell_type": "code",
   "execution_count": null,
   "metadata": {},
   "outputs": [],
   "source": []
  }
 ],
 "metadata": {
  "kernelspec": {
   "display_name": "Python 3",
   "language": "python",
   "name": "python3"
  },
  "language_info": {
   "codemirror_mode": {
    "name": "ipython",
    "version": 3
   },
   "file_extension": ".py",
   "mimetype": "text/x-python",
   "name": "python",
   "nbconvert_exporter": "python",
   "pygments_lexer": "ipython3",
   "version": "3.7.6"
  }
 },
 "nbformat": 4,
 "nbformat_minor": 4
}
